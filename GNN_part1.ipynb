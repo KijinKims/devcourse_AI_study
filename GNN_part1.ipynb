{
 "cells": [
  {
   "cell_type": "markdown",
   "id": "f17e453f-4b1a-4c3a-89aa-e117eaead134",
   "metadata": {},
   "source": [
    "> #### 1. 그래프로 표현될 수 있는 데이터\n",
    "> #### 2. 그래프 데이터에서의 예측 문제 종류, 그래프 표현법\n",
    "> #### 3. GNN\n",
    "> #### 4. GNN의 실제 데이터 적용\n",
    "> #### 5. GNN 관련 다양한 주제들"
   ]
  },
  {
   "cell_type": "markdown",
   "id": "7b554426-c2ac-4a54-89eb-b3a90ed0f79b",
   "metadata": {},
   "source": [
    "그래프: Vertex(또는 Node)와 Edge(또는 Link)로 구성되어, 개체간의 관계를 나타내는 자료구조\n",
    "\n",
    "요소별 속성(Attribute)\n",
    "- Vertex 속성: Vertex가 나타내는 것, 이웃의 수 등\n",
    "- Edge 속성: Edge가 나타내는 것, Edge weight 등\n",
    "- Global 속성: Vertex의 수, 가장 긴 경로 등\n",
    "\n",
    "각 속성을 하나의 Tensor로 묶어 놓은 것을 **Embedding**이라고 한다. 🌐\n",
    "\n",
    "Edge가 방향성을 가지는지 여부에 따라 Directed, Undirected 그래프로 나뉜다."
   ]
  },
  {
   "cell_type": "markdown",
   "id": "59aa5020-6ff5-429a-94fc-3003d0c9c953",
   "metadata": {},
   "source": [
    "## 1. 그래프로 표현될 수 있는 데이터\n",
    "\n",
    "#### Image as graph\n",
    "각 픽셀을 Node로, 픽셀 간에 이웃해 있는 것을 Edge로 생각할 수 있다. 🌐\n",
    "\n",
    "#### Texts as graph\n",
    "문장의 각 글자, 단어 등을 Node로, 글자나 단어 간에 이웃해 있는 것을 Edge로 생각할 수 있다. 🌐\n",
    "\n",
    "위의 두 경우, 그래프로 표현된 결과가 매우 규칙적인 구조를 가지고, 매우 Sparse하므로 공간효율적인 표현법을 고려할 수 있다.\n",
    "\n",
    "#### Molecules as graphs\n",
    "원자와 전자로 이루어지는 분자. 원자를 Node로, 원자간의 공유결합을 Edge로 생각하여, 분자의 3차원 구조를 그래프로 추상화 할 수 있다. 🌐\n",
    "\n",
    "#### Social networks as graphs\n",
    "인물, 조직을 Node로, 그들간의 상호작용을 Edge로 생각할 수 있다. 🌐\n",
    "\n",
    "#### Citation networks as graphs\n",
    "논문을 Node로, 논문 간의 인용을 Edge로 생각할 수 있다. \n",
    "\n",
    "#### Other\n",
    "ML 코드, 프로그래밍 코드, 수학 방정식 등 객체 간 관계 시각화."
   ]
  },
  {
   "cell_type": "markdown",
   "id": "31c1b673-82c7-4ea8-9bcb-79f75b1ae997",
   "metadata": {},
   "source": [
    "### Example: Zachary's Karate Club\n",
    "Karate Club 총 34명의 멤버(Node)가 총 78개의 상호작용(Edge)을 가지고 각자가 4개의 그룹 중 하나에 속해 있음.\n",
    "\n",
    "![zachary_circle](imgs/zachary_circle.png)"
   ]
  },
  {
   "cell_type": "markdown",
   "id": "68ac19cc-0603-4c9d-85dc-83589a7c5bbf",
   "metadata": {},
   "source": [
    "## 2. 그래프 데이터에서의 예측 문제 종류, 그래프 표현법"
   ]
  },
  {
   "cell_type": "markdown",
   "id": "31f1a2e9-f88e-4e88-984b-557574fb0e5a",
   "metadata": {},
   "source": [
    "### 그래프 데이터가 주어졌을 때 어떤 종류의 예측을 수행할 수 있을까?\n",
    "\n",
    "1. 그래프 단위 태스크\n",
    "\n",
    "> 전체 그래프의 성질을 예측하는 것<br>\n",
    "> 그래프가 분자 구조를 표현한다고 했을 때, 분자가 어떤 냄새를 낼지, 질병에 있어서 반응체에 결합할지 등을 예측\n",
    "\n",
    "2. Node 단위 태스크\n",
    "\n",
    "> 어떤 Node의 그래프에서의 역할 등 예측<br>\n",
    "> Zachary's Karate Club 예제. 클럽 내 두 파벌이 생기고, 각 멤버들이 어떤 파벌에 속하는지 예측하는 문제. 🌐\n",
    "\n",
    "3. Edge 단위 태스크\n",
    "\n",
    "> 그래프 상에서 두 Node간에 Edge가 존재하는지, 존재한다면 어떤 관계성을 의미하는 지<br>\n",
    "> ![edge_level_task](imgs/edge_level_task.png)\n",
    "\n",
    "### ML에 적절한 그래프 표현법\n",
    "\n",
    "Node, Edge, 그래프의 속성은 간단하게 행렬 형태로 표현 가능  \n",
    "(각 요소의 개수 x 해당 요소가 가지는 feature의 갯수)\n",
    "\n",
    "Graph connectivity의 경우 까다로움  \n",
    "인접 행렬의 문제점\n",
    "> 1. Sparse 그래프의 경우, 매우 공간비효율적\n",
    "> 2. 동일한 그래프에 대해서 Node의 배치 순서에 따라 다른 행렬로 표현 가능 &rarr; **학습의 결과가 달라짐!** (not permutation invariant) 🌐\n",
    "\n",
    "인접 리스트 : 출발 Node와 도착 Node로 이루어진 Tuple을 저장. Sparse 그래프의 저장에 효율적. **permutation invariant** &rarr; ML input으로 사용하기에 적합. 🌐"
   ]
  },
  {
   "cell_type": "markdown",
   "id": "0112e645-f973-41e0-86c1-c20aa62288a5",
   "metadata": {},
   "source": [
    "## 3. GNN\n",
    "**Graph connectivity를 그대로 유지**하면서 Vertex, Edge, 그래프 속성 **(Embedding)을 Update**\n",
    "\n",
    "#### Simplest GNN\n",
    "![simplest_gnn](imgs/simplest_gnn.png)\n",
    "\n",
    "![final_prediction](imgs/final_prediction.png)\n",
    "최종 Embedding에 Linear classifier를 적용해서 Node 분류 문제 해결 가능\n",
    "\n",
    "#### Pooling\n",
    "예측하고자 하는 요소에 대한 정보가 없는 경우는?  \n",
    "소셜 네트워크 분석시에, 익명성 유지를 위해 유저 데이터를 사용할 수 없다면?  \n",
    "다른 요소의 정보를 함께 고려 &rarr; **Pooling** 🌐\n",
    "> 1. 합칠 요소들의 최종 Embedding을 겹침\n",
    "> 2. 여러 Embedding을 통합함(보통 총합을 내는 식으로)\n",
    "\n",
    "Edge &rarr; Node Pooling\n",
    "\n",
    "![edge_to_node_pooling](imgs/edge_to_node_pooling.png)\n",
    "\n",
    "Node &rarr; Edge Pooling\n",
    "\n",
    "![node_to_edge_pooling](imgs/node_to_edge_pooling.png)\n",
    "\n",
    "Node &rarr; 그래프 Pooling\n",
    "![node_to_global_pooling](imgs/node_to_global_pooling.png)\n",
    "\n",
    "#### Graph Convolutional Network (GCN)\n",
    "\n",
    "Pooling은 최종 Embedding에서 여러 요소의 정보들을 종합하는 것.\n",
    "\n",
    "GNN 레이어 내에서는?\n",
    "\n",
    "**Message Passing**: 주변 Node 혹은 Edge 들과의 정보 교환을 통해 Embedding을 Update 🌐\n",
    "> 1. Node A의 이웃 Node들의 Embedding(**Message**)을 겹침\n",
    "> 2. 겹쳐진 Embedding을 통합함(보통 총합을 내는 식으로)\n",
    "> 3. 통합된 Embedding에 update function을 적용하여 Node A의 Embedding을 업데이트\n",
    "\n",
    "![gcn](imgs/gcn.png)\n",
    "\n",
    "한 레이어를 통과할 때마다 이웃 Node, 이웃의 이웃 Node, 이웃의 이웃의 이웃 Node, ...의 Message가 전달됨  \n",
    "왜 **이웃**의 정보를 종합할까?  \n",
    "**유사한 노드에 연결되어 있을 가능성이 그렇지 않은 노드에 연결될 가능성보다 높다**는 전제  \n",
    "**이웃의 정보를 받음으로써 경향성을 강화** &rarr; 예측력 강화\n",
    "\n"
   ]
  },
  {
   "cell_type": "markdown",
   "id": "38fd41bc-67a3-48d0-8c68-577e3d34a64e",
   "metadata": {},
   "source": [
    "#### Image convolution과 유사성\n",
    "\n",
    "![image_convolution](imgs/image_convolution.png)\n",
    "\n",
    "**인접한** 픽셀의 feature vector를 모두 더해서 구한 평균값으로 픽셀의 feature vector를 업데이트"
   ]
  },
  {
   "cell_type": "markdown",
   "id": "afe5861d-6512-4d49-a227-00e581af2639",
   "metadata": {},
   "source": [
    "### Example: Zachary's Karate Club\n",
    "\n",
    "멤버 개개인에 관한 정보(Node attribute)는 주어지지 않고, 멤버 간 상호작용 여부 (Graph connectivity)만 주어짐.\n",
    "\n",
    "목표: 그래프가 주어졌을 때, 각 멤버가 속하는 그룹을 분류하는 모델\n",
    "\n",
    "![initial_karate](imgs/initial_karate.png)\n",
    "\n",
    "![final_karate](imgs/final_karate.png)\n",
    "\n",
    "단일 레이어로 이루어진 GNN 모델을 구현\n",
    "\n",
    "$X→H(X)→ReLU(H(X))→Z(ReLU(H(X)))$  \n",
    "$X$: Input Node 속성 행렬(이 데이터의 경우 Identity 행렬)  \n",
    "$H$: GCN 레이어 / $H(X)$: Update된 Embedding  \n",
    "$Relu$: Activation 함수  \n",
    "$Z$: Linear classifier\n",
    "\n",
    "위의 모델로 학습 진행. Training 데이터셋을 대상으로 성능 평가함. 🌐  \n",
    "Epoch가 늘어나면서 구성 함수의 Parameter가 데이터셋에 맞게 조정되고, 정확도가 증가.\n",
    "\n",
    "Epoch가 늘어나면서 Embedding($H(X)$)이 분류에 적합하게 Update됨 🌐"
   ]
  }
 ],
 "metadata": {
  "kernelspec": {
   "display_name": "Python 3 (ipykernel)",
   "language": "python",
   "name": "python3"
  },
  "language_info": {
   "codemirror_mode": {
    "name": "ipython",
    "version": 3
   },
   "file_extension": ".py",
   "mimetype": "text/x-python",
   "name": "python",
   "nbconvert_exporter": "python",
   "pygments_lexer": "ipython3",
   "version": "3.7.13"
  }
 },
 "nbformat": 4,
 "nbformat_minor": 5
}
