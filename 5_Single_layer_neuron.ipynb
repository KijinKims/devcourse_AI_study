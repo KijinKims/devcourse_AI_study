{
 "cells": [
  {
   "cell_type": "markdown",
   "id": "99a5ff9e-68a6-41f5-8b58-134fd60e6f7e",
   "metadata": {},
   "source": [
    "# 4-6. 로지스틱 회귀 뉴런으로 단일층 신경망을 만듭니다."
   ]
  },
  {
   "cell_type": "markdown",
   "id": "edf6b4ce-6f84-4e40-9b7e-a2837bcecf89",
   "metadata": {},
   "source": [
    "### 신경망 구조  \n",
    "<img src=\"imgs/4-6.png\" alt=\"genearl_layer\" width=\"400\"/>"
   ]
  },
  {
   "cell_type": "code",
   "execution_count": 1,
   "id": "e00ac015-c011-4509-a2dd-4d2f17e00f80",
   "metadata": {},
   "outputs": [],
   "source": [
    "from sklearn.datasets import load_breast_cancer\n",
    "import matplotlib.pyplot as plt\n",
    "import seaborn as sns\n",
    "import numpy as np\n",
    "from sklearn.model_selection import train_test_split\n",
    "cancer = load_breast_cancer()"
   ]
  },
  {
   "cell_type": "code",
   "execution_count": 2,
   "id": "2cba32ee-1ce2-4859-99d2-7a3cee0d0640",
   "metadata": {},
   "outputs": [],
   "source": [
    "x = cancer.data\n",
    "y = cancer.target"
   ]
  },
  {
   "cell_type": "code",
   "execution_count": 3,
   "id": "91050598-dccf-4047-9d7f-170719eb8095",
   "metadata": {},
   "outputs": [],
   "source": [
    "x_train, x_test, y_train, y_test = train_test_split(x, y, stratify=y, test_size=0.2, random_state=42)"
   ]
  },
  {
   "cell_type": "code",
   "execution_count": 4,
   "id": "a596d6c0-064d-420d-9e27-e4afd6e1e286",
   "metadata": {},
   "outputs": [],
   "source": [
    "class SingleLayer:\n",
    "    def __init__(self, learning_rate = 0.1):\n",
    "        self.w = None\n",
    "        self.b = None\n",
    "        self.lr = learning_rate\n",
    "        self.losses = []\n",
    "        \n",
    "    def forpass(self, x):\n",
    "        z = np.sum(x * self.w) + self.b\n",
    "        return z\n",
    "    \n",
    "    def backprop(self, x, err):\n",
    "        w_grad = x * err\n",
    "        b_grad = 1 * err\n",
    "        return w_grad, b_grad\n",
    "    \n",
    "    def activation(self, z): # z is an numpy array\n",
    "        a = 1 / (1 + np.exp(-z))\n",
    "        return a\n",
    "    \n",
    "    def fit(self, x, y, epochs=100, shuffle=True):\n",
    "        self.w = np.ones(x.shape[1]) # x.shape[1] : feature 개수\n",
    "        self.b = 0\n",
    "        for _ in range(epochs):\n",
    "            loss = 0\n",
    "            if shuffle:\n",
    "                indexes = np.random.permutation(np.arange(len(x))) # 샘플 순서 섞기\n",
    "                for i in indexes:\n",
    "                    z = self.forpass(x[i])\n",
    "                    a = self.activation(z)\n",
    "                    err = -(y[i] - a)\n",
    "                    w_grad, b_grad = self.backprop(x[i], err)\n",
    "                    self.w -= w_grad\n",
    "                    self.b -= b_grad\n",
    "                    a = np.clip(a, 1e-10, 1-1e-10)\n",
    "                    loss += -(y[i]*np.log(a) + (1-y[i])*np.log(1-a))\n",
    "                    \n",
    "            else:\n",
    "                for i in range(len(x)):\n",
    "                    z = self.forpass(x[i])\n",
    "                    a = self.activation(z)\n",
    "                    err = -(y[i] - a)\n",
    "                    w_grad, b_grad = self.backprop(x[i], err)\n",
    "                    self.w -= w_grad\n",
    "                    self.b -= b_grad\n",
    "                    a = np.clip(a, 1e-10, 1-1e-10)\n",
    "                    loss += -(y[i]*np.log(a) + (1-y[i])*np.log(1-a))\n",
    "                     \n",
    "            self.losses.append(loss/len(y))\n",
    "                     \n",
    "    def predict(self, x):\n",
    "        z = [self.forpass(x_i) for x_i in x]\n",
    "        # a = self.activation(np.array(z))\n",
    "        # return a > 0.5        \n",
    "        return np.array(z) > 0\n",
    "    \n",
    "    def forpass_batch(self, x):\n",
    "        z = np.dot(x, self.w) + self.b\n",
    "        return z\n",
    "    \n",
    "    def backprop_batch(self, x, err):\n",
    "        m = len(x)\n",
    "        w_grad = np.dot(x.T, err) / m\n",
    "        b_grad = np.sum(err) / m\n",
    "        return w_grad, b_grad\n",
    "    \n",
    "    def fit_batch(self, x, y, epochs=100):\n",
    "        y = y.reshape(-1, 1)\n",
    "        m = len(x)\n",
    "        self.w = np.ones((x.shape[1], 1))\n",
    "        self.b = 0\n",
    "\n",
    "        for _ in range(epochs):\n",
    "            z = self.forpass_batch(x)\n",
    "            a = self.activation(z)\n",
    "            err = -(y - a)\n",
    "            w_grad, b_grad = self.backprop_batch(x, err)\n",
    "            self.w -= self.lr * w_grad\n",
    "            self.b -= self.lr * b_grad\n",
    "            a = np.clip(a, 1e-10, 1-1e-10)\n",
    "            loss = np.sum(-(y*np.log(a) + (1-y)*np.log(1-a)))\n",
    "            self.losses.append(loss / m)\n",
    "    \n",
    "    def predict_batch(self, x):\n",
    "        z = self.forpass_batch(x)\n",
    "        return np.array(z) > 0\n",
    "    \n",
    "    def score(self, x, y):\n",
    "        return np.mean(self.predict(x) == y)"
   ]
  },
  {
   "cell_type": "markdown",
   "id": "516c35be-6116-4844-924c-89314b15cf49",
   "metadata": {},
   "source": [
    "- self.losses: epoch 마다 달라지는 loss 값을 저장\n",
    "- np.clip: a 가 0에 매우 가까워지면, log(a)가 음의 무한대로, a가 1에 매우 가까워지면, log(1-a)가 음의 무한대로 가게 되어 loss 계산이 어려워짐.  \n",
    "a의 값을 $10^{-10} \\sim 1 - 10^{-10}$ 로 제한.\n",
    "- 각 샘플에 대한 err 와 grad를 계산하여 적용 -> 확률적 경사하강법\n",
    "- 훈련 세트 샘플 순서 섞기: 섞지 않으면 최적값 탐색 과정에서 특정 범위에만 머무르고 벗어나지 못할 수 있음. 샘플 순서를 섞어줌으로써 다양한 방향으로 최적값 탐색을 시도할 수 있게 해줌.\n",
    "- predict: activation 값이 0.5 초과이면 z가 0 초과 이므로, 단순화"
   ]
  },
  {
   "cell_type": "markdown",
   "id": "656822ee-19e2-4b2a-baa2-bbe4d800eb36",
   "metadata": {},
   "source": [
    "### 확률적 경사하강법"
   ]
  },
  {
   "cell_type": "markdown",
   "id": "8d14ae07-db4a-4ddb-aadc-46bd30b6468c",
   "metadata": {},
   "source": [
    "#### 샘플 순서 섞지 않음"
   ]
  },
  {
   "cell_type": "code",
   "execution_count": 5,
   "id": "ab94c1ee-03b7-453a-aba8-7c723e8e8270",
   "metadata": {},
   "outputs": [
    {
     "name": "stderr",
     "output_type": "stream",
     "text": [
      "C:\\Users\\skkuj\\Anaconda3\\envs\\ml\\lib\\site-packages\\ipykernel_launcher.py:18: RuntimeWarning: overflow encountered in exp\n"
     ]
    }
   ],
   "source": [
    "layer = SingleLayer()\n",
    "layer.fit(x_train, y_train, shuffle=False)"
   ]
  },
  {
   "cell_type": "code",
   "execution_count": 6,
   "id": "9fde7513-9bf8-49e3-bf16-893299faa5bc",
   "metadata": {},
   "outputs": [
    {
     "data": {
      "text/plain": [
       "0.8245614035087719"
      ]
     },
     "execution_count": 6,
     "metadata": {},
     "output_type": "execute_result"
    }
   ],
   "source": [
    "layer.score(x_test, y_test)"
   ]
  },
  {
   "cell_type": "code",
   "execution_count": 7,
   "id": "ac8ed6df-c422-41f8-95b4-8fb849e9e464",
   "metadata": {},
   "outputs": [
    {
     "data": {
      "image/png": "[encoded data removed]",
      "text/plain": [
       "<Figure size 640x480 with 1 Axes>"
      ]
     },
     "metadata": {},
     "output_type": "display_data"
    }
   ],
   "source": [
    "plt.plot(layer.losses)\n",
    "plt.xlabel('epoch')\n",
    "plt.ylabel('loss')\n",
    "plt.show()"
   ]
  },
  {
   "cell_type": "markdown",
   "id": "6f9a28e2-b68e-4f46-b380-9c808ae4d585",
   "metadata": {},
   "source": [
    "#### 샘플 순서 섞음"
   ]
  },
  {
   "cell_type": "code",
   "execution_count": 8,
   "id": "754b924f-17df-47cb-9890-05cab24d8a44",
   "metadata": {},
   "outputs": [
    {
     "name": "stderr",
     "output_type": "stream",
     "text": [
      "C:\\Users\\skkuj\\Anaconda3\\envs\\ml\\lib\\site-packages\\ipykernel_launcher.py:18: RuntimeWarning: overflow encountered in exp\n"
     ]
    }
   ],
   "source": [
    "layer = SingleLayer()\n",
    "layer.fit(x_train, y_train)"
   ]
  },
  {
   "cell_type": "code",
   "execution_count": 9,
   "id": "082d9e7a-3c43-421c-bec1-4503373b673b",
   "metadata": {},
   "outputs": [
    {
     "data": {
      "text/plain": [
       "0.9385964912280702"
      ]
     },
     "execution_count": 9,
     "metadata": {},
     "output_type": "execute_result"
    }
   ],
   "source": [
    "layer.score(x_test, y_test)"
   ]
  },
  {
   "cell_type": "code",
   "execution_count": 10,
   "id": "a00b8e37-15d8-4290-8497-d63e7e3707b6",
   "metadata": {},
   "outputs": [
    {
     "data": {
      "image/png": "[encoded data removed]",
      "text/plain": [
       "<Figure size 640x480 with 1 Axes>"
      ]
     },
     "metadata": {},
     "output_type": "display_data"
    }
   ],
   "source": [
    "plt.plot(layer.losses)\n",
    "plt.xlabel('epoch')\n",
    "plt.ylabel('loss')\n",
    "plt.show()"
   ]
  },
  {
   "cell_type": "markdown",
   "id": "16b11c4a-714a-44e1-9ff9-9b725b6b7b38",
   "metadata": {},
   "source": [
    "### 배치 경사 하강법"
   ]
  },
  {
   "cell_type": "code",
   "execution_count": 11,
   "id": "94a6c720-8ea7-4bbe-9495-4fe49b3a7ca9",
   "metadata": {},
   "outputs": [
    {
     "name": "stderr",
     "output_type": "stream",
     "text": [
      "C:\\Users\\skkuj\\Anaconda3\\envs\\ml\\lib\\site-packages\\ipykernel_launcher.py:18: RuntimeWarning: overflow encountered in exp\n"
     ]
    }
   ],
   "source": [
    "layer = SingleLayer(0.0003)\n",
    "layer.fit_batch(x_train, y_train)"
   ]
  },
  {
   "cell_type": "code",
   "execution_count": 12,
   "id": "0ba50579-f2be-4056-9ab8-6ae458ecc5db",
   "metadata": {},
   "outputs": [
    {
     "data": {
      "image/png": "[encoded data removed]",
      "text/plain": [
       "<Figure size 640x480 with 1 Axes>"
      ]
     },
     "metadata": {},
     "output_type": "display_data"
    }
   ],
   "source": [
    "plt.plot(layer.losses)\n",
    "plt.xlabel('epoch')\n",
    "plt.ylabel('loss')\n",
    "plt.show()"
   ]
  },
  {
   "cell_type": "markdown",
   "id": "bf930d87-7122-441d-beab-34f10677fe8e",
   "metadata": {},
   "source": [
    "# 4-7. 사이킷런으로 로지스틱 회귀를 수행합니다"
   ]
  },
  {
   "cell_type": "code",
   "execution_count": 13,
   "id": "0c80e4e5-c42d-43dc-bcd3-eb744b171ecf",
   "metadata": {},
   "outputs": [],
   "source": [
    "from sklearn.linear_model import SGDClassifier"
   ]
  },
  {
   "cell_type": "code",
   "execution_count": 14,
   "id": "4d8c1c69-35d8-47d6-9868-76b573bc2408",
   "metadata": {},
   "outputs": [],
   "source": [
    "sgd = SGDClassifier(loss='log', max_iter=100, tol=1e-3, random_state=42)"
   ]
  },
  {
   "cell_type": "code",
   "execution_count": 15,
   "id": "84c484ce-e69e-475e-bc92-f7deb7e4825b",
   "metadata": {},
   "outputs": [
    {
     "data": {
      "text/plain": [
       "0.8333333333333334"
      ]
     },
     "execution_count": 15,
     "metadata": {},
     "output_type": "execute_result"
    }
   ],
   "source": [
    "sgd.fit(x_train, y_train)\n",
    "sgd.score(x_test, y_test)"
   ]
  },
  {
   "cell_type": "code",
   "execution_count": 16,
   "id": "833217d3-0229-454c-872e-c65bc4fc0f1f",
   "metadata": {},
   "outputs": [
    {
     "data": {
      "text/plain": [
       "array([0, 1, 0, 0, 0, 0, 1, 0, 0, 0])"
      ]
     },
     "execution_count": 16,
     "metadata": {},
     "output_type": "execute_result"
    }
   ],
   "source": [
    "sgd.predict(x_test[0:10])"
   ]
  },
  {
   "cell_type": "code",
   "execution_count": 17,
   "id": "0a28cb7b-83e3-40b7-bfae-06b482d5248c",
   "metadata": {},
   "outputs": [
    {
     "data": {
      "text/plain": [
       "array([0, 1, 0, 1, 0, 1, 1, 0, 0, 0])"
      ]
     },
     "execution_count": 17,
     "metadata": {},
     "output_type": "execute_result"
    }
   ],
   "source": [
    "y_test[0:10]"
   ]
  }
 ],
 "metadata": {
  "kernelspec": {
   "display_name": "Python 3 (ipykernel)",
   "language": "python",
   "name": "python3"
  },
  "language_info": {
   "codemirror_mode": {
    "name": "ipython",
    "version": 3
   },
   "file_extension": ".py",
   "mimetype": "text/x-python",
   "name": "python",
   "nbconvert_exporter": "python",
   "pygments_lexer": "ipython3",
   "version": "3.7.13"
  }
 },
 "nbformat": 4,
 "nbformat_minor": 5
}
