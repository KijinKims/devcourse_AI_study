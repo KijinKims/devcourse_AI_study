{
 "cells": [
  {
   "cell_type": "code",
   "execution_count": 1,
   "id": "90de445a-09fb-4ea6-ac08-397aa8c997cf",
   "metadata": {},
   "outputs": [],
   "source": [
    "import pandas as pd\n",
    "import numpy as np\n",
    "import seaborn as sns\n",
    "import matplotlib.pyplot as plt\n",
    "from sklearn.preprocessing import StandardScaler"
   ]
  },
  {
   "cell_type": "code",
   "execution_count": 2,
   "id": "e0d016ef-4f3b-4a89-9e6f-44568061c728",
   "metadata": {},
   "outputs": [],
   "source": [
    "df = pd.read_csv(\"train.csv\")"
   ]
  },
  {
   "cell_type": "markdown",
   "id": "46ce32ff-3008-41ad-bb4f-e5c36896431b",
   "metadata": {},
   "source": [
    "# Preprocessing"
   ]
  },
  {
   "cell_type": "code",
   "execution_count": 3,
   "id": "6596ce52-f02f-4754-be43-81cb4468e367",
   "metadata": {},
   "outputs": [],
   "source": [
    "def plot_cont(colname, except_zero=False):\n",
    "    fig, ax = plt.subplots(1, 1, figsize=(10,5))\n",
    "    if except_zero:\n",
    "        sns.kdeplot(df[(df.Transported == True) & (df[colname] > 0)][colname], ax=ax)\n",
    "        sns.kdeplot(df[(df.Transported == False) & (df[colname] > 0)][colname], ax=ax)\n",
    "    else:\n",
    "        sns.kdeplot(x=df[df.Transported == True][colname], ax=ax)\n",
    "        sns.kdeplot(x=df[df.Transported == False][colname], ax=ax)\n",
    "    plt.legend(['Transported', 'Not Transported'])\n",
    "    plt.show()"
   ]
  },
  {
   "cell_type": "markdown",
   "id": "2cbcfe97-e472-4fbc-87c1-b5f7b36788ae",
   "metadata": {},
   "source": [
    "## Age"
   ]
  },
  {
   "cell_type": "markdown",
   "id": "506fedbc-6def-4401-b98f-4519e9efb5b5",
   "metadata": {},
   "source": [
    "나이 결측치 Median으로 대체"
   ]
  },
  {
   "cell_type": "code",
   "execution_count": 4,
   "id": "65cbc1f5-26a5-41c2-a38c-a1d8f43bdb9e",
   "metadata": {},
   "outputs": [],
   "source": [
    "df['Age'] = df['Age'].fillna(df['Age'].median())"
   ]
  },
  {
   "cell_type": "markdown",
   "id": "2ac6cd92-4229-401f-85b5-7a2a40adf390",
   "metadata": {},
   "source": [
    "## Cabin"
   ]
  },
  {
   "cell_type": "code",
   "execution_count": 5,
   "id": "2e806539-e30e-4eba-bc38-dc0c685ef8c9",
   "metadata": {},
   "outputs": [],
   "source": [
    "def split_cabin(X):\n",
    "    X_ = X.copy()\n",
    "    X_[['Cabin_deck', 'Cabin_num', 'Cabin_side']] = X_['Cabin'].str.split('/', 2, expand=True)\n",
    "    X_['Cabin_num'] = pd.to_numeric(X_['Cabin_num'])\n",
    "    X_ = X_.drop('Cabin', axis = 1)\n",
    "    return X_"
   ]
  },
  {
   "cell_type": "markdown",
   "id": "c8b55b05-aa6c-4f93-9e93-689ef6c5f5df",
   "metadata": {},
   "source": [
    "Cabin 칼럼을 각 요소에 따라 분리"
   ]
  },
  {
   "cell_type": "code",
   "execution_count": 6,
   "id": "b20870fd-b018-44c5-b580-9592f7889cc9",
   "metadata": {},
   "outputs": [],
   "source": [
    "df = split_cabin(df)"
   ]
  },
  {
   "cell_type": "markdown",
   "id": "6dee5f1d-0fa4-4484-8dc2-41f38955740e",
   "metadata": {},
   "source": [
    "## PassengerID"
   ]
  },
  {
   "cell_type": "markdown",
   "id": "b9a2f308-b30c-43be-9879-752a769b2463",
   "metadata": {},
   "source": [
    "Passenger ID를 group과 group 내 ID로 분리"
   ]
  },
  {
   "cell_type": "code",
   "execution_count": 7,
   "id": "66a84d04-e75d-4ad6-8a55-028d516fa279",
   "metadata": {},
   "outputs": [],
   "source": [
    "def split_passenger(X):\n",
    "    X_ = X.copy()\n",
    "    X_[['Passenger_group', 'Passenger_id_in_group']] = X_['PassengerId'].str.split('_', 1, expand=True)\n",
    "    X_['Passenger_group'] = pd.to_numeric(X_['Passenger_group'])\n",
    "    X_['Passenger_id_in_group'] = pd.to_numeric(X_['Passenger_id_in_group'])\n",
    "    X_ = X_.drop('PassengerId', axis = 1)\n",
    "    return X_"
   ]
  },
  {
   "cell_type": "code",
   "execution_count": 8,
   "id": "907beeaa-c68f-489b-976e-52f83d9ca795",
   "metadata": {},
   "outputs": [],
   "source": [
    "df = split_passenger(df)"
   ]
  },
  {
   "cell_type": "markdown",
   "id": "483280f0-34d4-48f0-8384-52f8ff11df10",
   "metadata": {},
   "source": [
    "# Logistic regression"
   ]
  },
  {
   "cell_type": "code",
   "execution_count": 9,
   "id": "7180075c-8516-45a2-8c66-34d1a212c817",
   "metadata": {},
   "outputs": [],
   "source": [
    "from sklearn.pipeline import Pipeline\n",
    "from sklearn.pipeline import make_pipeline\n",
    "from sklearn.compose import ColumnTransformer\n",
    "from sklearn.preprocessing import OneHotEncoder\n",
    "from sklearn.linear_model import LogisticRegression\n",
    "from sklearn.preprocessing import MinMaxScaler\n",
    "from sklearn.model_selection import train_test_split\n",
    "from sklearn.impute import SimpleImputer"
   ]
  },
  {
   "cell_type": "code",
   "execution_count": 10,
   "id": "9c73e3c2-c1fc-4a5e-a113-859b8c7aba49",
   "metadata": {},
   "outputs": [],
   "source": [
    "y = df['Transported']\n",
    "drop_columns = ['Name', 'Cabin_num', 'Passenger_group', 'Passenger_id_in_group']\n",
    "X = df.drop(['Transported'] + drop_columns, axis = 1)"
   ]
  },
  {
   "cell_type": "code",
   "execution_count": 11,
   "id": "4f4160ff-bea2-48b2-983d-a150a4a9a288",
   "metadata": {},
   "outputs": [],
   "source": [
    "numerical_features = [3, 5, 6, 7, 8, 9]\n",
    "multicategorical_features = [0, 2, 10, 11]\n",
    "categorical_features = [1, 4]\n",
    "\n",
    "multicategorical_preprocessing = Pipeline(\n",
    "    [\n",
    "        ('cat', SimpleImputer(missing_values=np.nan, strategy=\"most_frequent\")),\n",
    "        ('onehot', OneHotEncoder(handle_unknown='ignore', sparse=False)),\n",
    "    ])\n",
    "categorical_preprocessing = Pipeline(\n",
    "    [\n",
    "        ('cat', SimpleImputer(missing_values=np.nan, strategy=\"most_frequent\")),\n",
    "    ])\n",
    "numerical_preprocessing = Pipeline(\n",
    "    [\n",
    "        ('scaler', MinMaxScaler()),\n",
    "        ('impute', SimpleImputer(strategy=\"median\")),\n",
    "    ])\n",
    "\n",
    "preprocessing = ColumnTransformer(\n",
    "                    [\n",
    "                        ('multicatecorical', multicategorical_preprocessing,\n",
    "                         multicategorical_features),\n",
    "                        ('catecorical', categorical_preprocessing,\n",
    "                         categorical_features),\n",
    "                        ('numerical', numerical_preprocessing,\n",
    "                         numerical_features),\n",
    "                    ])"
   ]
  },
  {
   "cell_type": "code",
   "execution_count": 12,
   "id": "dfc8bf7a-ec57-47d1-8016-7f1774c59fac",
   "metadata": {},
   "outputs": [],
   "source": [
    "X_train, X_test, y_train, y_test = train_test_split(X, y, random_state = 50)"
   ]
  },
  {
   "cell_type": "code",
   "execution_count": 13,
   "id": "38ed0677-d004-456d-af29-96ef6c19a8ba",
   "metadata": {},
   "outputs": [],
   "source": [
    "lor = LogisticRegression(C = 50, max_iter=300)"
   ]
  },
  {
   "cell_type": "code",
   "execution_count": 14,
   "id": "6a0356b7-43ad-4388-bd2d-5d2095cf9b7e",
   "metadata": {},
   "outputs": [],
   "source": [
    "clf = Pipeline([(\"preprocessing\", preprocessing),\n",
    "                (\"lor\", lor)])"
   ]
  },
  {
   "cell_type": "code",
   "execution_count": 15,
   "id": "0faad609-ee79-4ce4-a10c-fcced821cb36",
   "metadata": {},
   "outputs": [],
   "source": [
    "a = clf.fit(X_train, y_train)"
   ]
  },
  {
   "cell_type": "code",
   "execution_count": 16,
   "id": "3bbd0ff0-b4ba-48ca-9207-268970320c74",
   "metadata": {},
   "outputs": [
    {
     "data": {
      "text/plain": [
       "0.7933732167510354"
      ]
     },
     "execution_count": 16,
     "metadata": {},
     "output_type": "execute_result"
    }
   ],
   "source": [
    "clf.score(X_train, y_train)"
   ]
  },
  {
   "cell_type": "code",
   "execution_count": 17,
   "id": "9008df18-2155-4539-a5a6-ab003cfbbaa8",
   "metadata": {},
   "outputs": [
    {
     "data": {
      "text/plain": [
       "0.781508739650414"
      ]
     },
     "execution_count": 17,
     "metadata": {},
     "output_type": "execute_result"
    }
   ],
   "source": [
    "clf.score(X_test, y_test)"
   ]
  },
  {
   "cell_type": "code",
   "execution_count": 18,
   "id": "8c83c896-d855-459c-9fa7-109c8f020a12",
   "metadata": {},
   "outputs": [],
   "source": [
    "test_df = pd.read_csv(\"test.csv\")"
   ]
  },
  {
   "cell_type": "code",
   "execution_count": 19,
   "id": "17406e66-0814-4797-86cb-1edc864e2393",
   "metadata": {},
   "outputs": [],
   "source": [
    "test_df_cp = test_df.copy()\n",
    "test_df_cp = split_cabin(test_df_cp)\n",
    "test_df_cp = split_passenger(test_df_cp)\n",
    "test_X = test_df_cp.drop(drop_columns, axis = 1)"
   ]
  },
  {
   "cell_type": "code",
   "execution_count": 20,
   "id": "15c693bb-c01c-4333-8157-f8a316d2c945",
   "metadata": {},
   "outputs": [],
   "source": [
    "predicted = clf.predict(test_X)"
   ]
  },
  {
   "cell_type": "code",
   "execution_count": 21,
   "id": "e98a1fca-3b0a-45e6-b9a6-9335f49ef73a",
   "metadata": {},
   "outputs": [],
   "source": [
    "d = {\"PassengerId\" : test_df[\"PassengerId\"], \"Transported\" : predicted}"
   ]
  },
  {
   "cell_type": "code",
   "execution_count": 22,
   "id": "8755be17-56ab-462a-85d7-3b1faf40ae18",
   "metadata": {},
   "outputs": [],
   "source": [
    "export_df = pd.DataFrame(d)"
   ]
  },
  {
   "cell_type": "code",
   "execution_count": 23,
   "id": "7af851ee-68cc-4cce-9b5b-49f91b6c972e",
   "metadata": {},
   "outputs": [],
   "source": [
    "# export_df.to_csv(\"submission.csv\", index = False)"
   ]
  }
 ],
 "metadata": {
  "kernelspec": {
   "display_name": "Python 3 (ipykernel)",
   "language": "python",
   "name": "python3"
  },
  "language_info": {
   "codemirror_mode": {
    "name": "ipython",
    "version": 3
   },
   "file_extension": ".py",
   "mimetype": "text/x-python",
   "name": "python",
   "nbconvert_exporter": "python",
   "pygments_lexer": "ipython3",
   "version": "3.7.13"
  }
 },
 "nbformat": 4,
 "nbformat_minor": 5
}
