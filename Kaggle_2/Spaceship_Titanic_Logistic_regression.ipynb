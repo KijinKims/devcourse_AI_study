{
 "cells": [
  {
   "cell_type": "code",
   "execution_count": 1,
   "id": "90de445a-09fb-4ea6-ac08-397aa8c997cf",
   "metadata": {},
   "outputs": [],
   "source": [
    "import pandas as pd\n",
    "import numpy as np\n",
    "import seaborn as sns\n",
    "import matplotlib.pyplot as plt\n",
    "from sklearn.preprocessing import StandardScaler"
   ]
  },
  {
   "cell_type": "code",
   "execution_count": 2,
   "id": "e0d016ef-4f3b-4a89-9e6f-44568061c728",
   "metadata": {},
   "outputs": [],
   "source": [
    "df = pd.read_csv(\"train.csv\")"
   ]
  },
  {
   "cell_type": "markdown",
   "id": "46ce32ff-3008-41ad-bb4f-e5c36896431b",
   "metadata": {},
   "source": [
    "# Preprocessing"
   ]
  },
  {
   "cell_type": "markdown",
   "id": "2cbcfe97-e472-4fbc-87c1-b5f7b36788ae",
   "metadata": {},
   "source": [
    "## Age"
   ]
  },
  {
   "cell_type": "markdown",
   "id": "506fedbc-6def-4401-b98f-4519e9efb5b5",
   "metadata": {},
   "source": [
    "나이 결측치 Median으로 대체"
   ]
  },
  {
   "cell_type": "code",
   "execution_count": 3,
   "id": "65cbc1f5-26a5-41c2-a38c-a1d8f43bdb9e",
   "metadata": {},
   "outputs": [],
   "source": [
    "df['Age'] = df['Age'].fillna(df['Age'].median())"
   ]
  },
  {
   "cell_type": "markdown",
   "id": "c9a04e19-5681-4e0a-8146-f567acb438a6",
   "metadata": {},
   "source": [
    "## PassengerID"
   ]
  },
  {
   "cell_type": "markdown",
   "id": "e1a5f942-ae2d-4999-bfa3-53788767d3ca",
   "metadata": {},
   "source": [
    "Passenger ID를 group과 group 내 ID로 분리"
   ]
  },
  {
   "cell_type": "code",
   "execution_count": 4,
   "id": "66a84d04-e75d-4ad6-8a55-028d516fa279",
   "metadata": {},
   "outputs": [],
   "source": [
    "def split_passenger(X):\n",
    "    X_ = X.copy()\n",
    "    X_[['Passenger_group', 'Passenger_id_in_group']] = X_['PassengerId'].str.split('_', 1, expand=True)\n",
    "    X_['Passenger_group'] = pd.to_numeric(X_['Passenger_group'])\n",
    "    X_['Passenger_id_in_group'] = pd.to_numeric(X_['Passenger_id_in_group'])\n",
    "    return X_"
   ]
  },
  {
   "cell_type": "code",
   "execution_count": 5,
   "id": "907beeaa-c68f-489b-976e-52f83d9ca795",
   "metadata": {},
   "outputs": [],
   "source": [
    "after_split_passenger_df = split_passenger(df)"
   ]
  },
  {
   "cell_type": "markdown",
   "id": "a6b399b6-7dc4-4ca0-a356-d30c8c01292c",
   "metadata": {},
   "source": [
    "## Passenger_group 이용한 결측치 대체"
   ]
  },
  {
   "cell_type": "code",
   "execution_count": 6,
   "id": "530e2d85-1eac-46f9-ab40-b44f789dbc55",
   "metadata": {},
   "outputs": [],
   "source": [
    "def fill_missing_values_with_another_group_member(df):\n",
    "    df_ = df.copy()\n",
    "    fill_cols = ['HomePlanet', 'CryoSleep', 'Cabin', 'Destination', 'VIP']\n",
    "    for col in fill_cols:\n",
    "        df_.sort_values(col, inplace=True)\n",
    "        df_[col] = df_.groupby(['Passenger_group'])[col].ffill()\n",
    "    return df_"
   ]
  },
  {
   "cell_type": "code",
   "execution_count": 7,
   "id": "c4c39f99-48ea-49ec-9599-31f05689caf4",
   "metadata": {},
   "outputs": [],
   "source": [
    "df = fill_missing_values_with_another_group_member(after_split_passenger_df)"
   ]
  },
  {
   "cell_type": "markdown",
   "id": "2ac6cd92-4229-401f-85b5-7a2a40adf390",
   "metadata": {},
   "source": [
    "## Cabin"
   ]
  },
  {
   "cell_type": "code",
   "execution_count": 8,
   "id": "2e806539-e30e-4eba-bc38-dc0c685ef8c9",
   "metadata": {},
   "outputs": [],
   "source": [
    "def split_cabin(X):\n",
    "    X_ = X.copy()\n",
    "    X_[['Cabin_deck', 'Cabin_num', 'Cabin_side']] = X_['Cabin'].str.split('/', 2, expand=True)\n",
    "    X_['Cabin_num'] = pd.to_numeric(X_['Cabin_num'])\n",
    "    X_ = X_.drop('Cabin', axis = 1)\n",
    "    return X_"
   ]
  },
  {
   "cell_type": "markdown",
   "id": "c8b55b05-aa6c-4f93-9e93-689ef6c5f5df",
   "metadata": {},
   "source": [
    "Cabin 칼럼을 각 요소에 따라 분리"
   ]
  },
  {
   "cell_type": "code",
   "execution_count": 9,
   "id": "b20870fd-b018-44c5-b580-9592f7889cc9",
   "metadata": {},
   "outputs": [],
   "source": [
    "df = split_cabin(df)"
   ]
  },
  {
   "cell_type": "markdown",
   "id": "4f7b15c3-6c8d-4f10-9a85-dfd67668e09b",
   "metadata": {},
   "source": [
    "## Cabin_num binning"
   ]
  },
  {
   "cell_type": "code",
   "execution_count": 10,
   "id": "8b51b7bd-74c4-44d7-82d2-1423a528f565",
   "metadata": {},
   "outputs": [
    {
     "data": {
      "text/plain": [
       "OptimalBinning(name='Cabin_num')"
      ]
     },
     "execution_count": 10,
     "metadata": {},
     "output_type": "execute_result"
    }
   ],
   "source": [
    "from optbinning import OptimalBinning\n",
    "variable = \"Cabin_num\"\n",
    "optb = OptimalBinning(name=variable, dtype=\"numerical\", solver=\"cp\")\n",
    "x = df[\"Cabin_num\"].values\n",
    "y = df[\"Transported\"].values\n",
    "optb.fit(x, y)"
   ]
  },
  {
   "cell_type": "code",
   "execution_count": 11,
   "id": "2f3c3ae5-66b8-435e-ac81-d3d2ee505dd4",
   "metadata": {},
   "outputs": [],
   "source": [
    "x_transform_indices = optb.transform(x, metric=\"indices\")\n",
    "df[\"Cabin_num_bin\"] = x_transform_indices"
   ]
  },
  {
   "cell_type": "markdown",
   "id": "483280f0-34d4-48f0-8384-52f8ff11df10",
   "metadata": {},
   "source": [
    "# Logistic regression"
   ]
  },
  {
   "cell_type": "code",
   "execution_count": 12,
   "id": "7180075c-8516-45a2-8c66-34d1a212c817",
   "metadata": {},
   "outputs": [],
   "source": [
    "from sklearn.pipeline import Pipeline\n",
    "from sklearn.pipeline import make_pipeline\n",
    "from sklearn.compose import ColumnTransformer\n",
    "from sklearn.preprocessing import OneHotEncoder\n",
    "from sklearn.linear_model import LogisticRegression\n",
    "from sklearn.preprocessing import MinMaxScaler\n",
    "from sklearn.model_selection import train_test_split\n",
    "from sklearn.impute import SimpleImputer"
   ]
  },
  {
   "cell_type": "code",
   "execution_count": 13,
   "id": "9c73e3c2-c1fc-4a5e-a113-859b8c7aba49",
   "metadata": {},
   "outputs": [],
   "source": [
    "y = df['Transported']\n",
    "drop_columns = ['Name', 'Cabin_num', 'PassengerId', 'Passenger_group', 'Passenger_id_in_group']\n",
    "X = df.drop(['Transported'] + drop_columns, axis = 1)"
   ]
  },
  {
   "cell_type": "code",
   "execution_count": 14,
   "id": "4f4160ff-bea2-48b2-983d-a150a4a9a288",
   "metadata": {},
   "outputs": [],
   "source": [
    "numerical_features = [3, 5, 6, 7, 8, 9]\n",
    "multicategorical_features = [0, 2, 10, 11, 12]\n",
    "categorical_features = [1, 4]\n",
    "\n",
    "multicategorical_preprocessing = Pipeline(\n",
    "    [\n",
    "        ('cat', SimpleImputer(missing_values=np.nan, strategy=\"most_frequent\")),\n",
    "        ('onehot', OneHotEncoder(handle_unknown='ignore', sparse=False)),\n",
    "    ])\n",
    "categorical_preprocessing = Pipeline(\n",
    "    [\n",
    "        ('cat', SimpleImputer(missing_values=np.nan, strategy=\"most_frequent\")),\n",
    "    ])\n",
    "numerical_preprocessing = Pipeline(\n",
    "    [\n",
    "        ('scaler', MinMaxScaler()),\n",
    "        ('impute', SimpleImputer(strategy=\"median\")),\n",
    "    ])\n",
    "\n",
    "preprocessing = ColumnTransformer(\n",
    "                    [\n",
    "                        ('multicatecorical', multicategorical_preprocessing,\n",
    "                         multicategorical_features),\n",
    "                        ('catecorical', categorical_preprocessing,\n",
    "                         categorical_features),\n",
    "                        ('numerical', numerical_preprocessing,\n",
    "                         numerical_features),\n",
    "                    ])"
   ]
  },
  {
   "cell_type": "code",
   "execution_count": 15,
   "id": "dfc8bf7a-ec57-47d1-8016-7f1774c59fac",
   "metadata": {},
   "outputs": [],
   "source": [
    "X_train, X_test, y_train, y_test = train_test_split(X, y, random_state = 50)"
   ]
  },
  {
   "cell_type": "code",
   "execution_count": 16,
   "id": "38ed0677-d004-456d-af29-96ef6c19a8ba",
   "metadata": {},
   "outputs": [],
   "source": [
    "lor = LogisticRegression(C = 150, max_iter=300)"
   ]
  },
  {
   "cell_type": "code",
   "execution_count": 17,
   "id": "6a0356b7-43ad-4388-bd2d-5d2095cf9b7e",
   "metadata": {},
   "outputs": [],
   "source": [
    "clf = Pipeline([(\"preprocessing\", preprocessing),\n",
    "                (\"lor\", lor)])"
   ]
  },
  {
   "cell_type": "code",
   "execution_count": 18,
   "id": "0faad609-ee79-4ce4-a10c-fcced821cb36",
   "metadata": {},
   "outputs": [],
   "source": [
    "a = clf.fit(X_train, y_train)"
   ]
  },
  {
   "cell_type": "code",
   "execution_count": 19,
   "id": "3bbd0ff0-b4ba-48ca-9207-268970320c74",
   "metadata": {},
   "outputs": [
    {
     "data": {
      "text/plain": [
       "0.7929130234698574"
      ]
     },
     "execution_count": 19,
     "metadata": {},
     "output_type": "execute_result"
    }
   ],
   "source": [
    "clf.score(X_train, y_train)"
   ]
  },
  {
   "cell_type": "code",
   "execution_count": 20,
   "id": "9008df18-2155-4539-a5a6-ab003cfbbaa8",
   "metadata": {},
   "outputs": [
    {
     "data": {
      "text/plain": [
       "0.795768169273229"
      ]
     },
     "execution_count": 20,
     "metadata": {},
     "output_type": "execute_result"
    }
   ],
   "source": [
    "clf.score(X_test, y_test)"
   ]
  },
  {
   "cell_type": "code",
   "execution_count": 21,
   "id": "de355f0c-ec8e-4658-9b97-99baa6f6589e",
   "metadata": {},
   "outputs": [],
   "source": [
    "a = clf.fit(X, y)"
   ]
  },
  {
   "cell_type": "code",
   "execution_count": 22,
   "id": "8c83c896-d855-459c-9fa7-109c8f020a12",
   "metadata": {},
   "outputs": [],
   "source": [
    "test_df = pd.read_csv(\"test.csv\")\n",
    "test_df = split_passenger(test_df)"
   ]
  },
  {
   "cell_type": "code",
   "execution_count": 23,
   "id": "17eca520-f70c-4d5e-911c-ecaf61a04a98",
   "metadata": {},
   "outputs": [],
   "source": [
    "test_ids = test_df[\"PassengerId\"]"
   ]
  },
  {
   "cell_type": "code",
   "execution_count": 24,
   "id": "4cedb008-8a67-494b-a963-64859d45794c",
   "metadata": {},
   "outputs": [],
   "source": [
    "concat_df = pd.concat([test_df, after_split_passenger_df])\n",
    "filled_concat_df = fill_missing_values_with_another_group_member(concat_df)\n",
    "test_df = filled_concat_df[filled_concat_df[\"PassengerId\"].isin(test_ids)]"
   ]
  },
  {
   "cell_type": "code",
   "execution_count": 25,
   "id": "17406e66-0814-4797-86cb-1edc864e2393",
   "metadata": {},
   "outputs": [],
   "source": [
    "test_df_cp = test_df.copy()\n",
    "test_df_cp = split_cabin(test_df_cp)\n",
    "test_df_cp['Cabin_num_bin'] = pd.cut(test_df_cp['Cabin_num'], bins=optb.splits)\n",
    "test_X = test_df_cp.drop(drop_columns, axis = 1)"
   ]
  },
  {
   "cell_type": "code",
   "execution_count": 26,
   "id": "15c693bb-c01c-4333-8157-f8a316d2c945",
   "metadata": {},
   "outputs": [],
   "source": [
    "predicted = clf.predict(test_X)"
   ]
  },
  {
   "cell_type": "code",
   "execution_count": 27,
   "id": "e98a1fca-3b0a-45e6-b9a6-9335f49ef73a",
   "metadata": {},
   "outputs": [],
   "source": [
    "d = {\"PassengerId\" : test_df[\"PassengerId\"], \"Transported\" : predicted}"
   ]
  },
  {
   "cell_type": "code",
   "execution_count": 28,
   "id": "8755be17-56ab-462a-85d7-3b1faf40ae18",
   "metadata": {},
   "outputs": [],
   "source": [
    "export_df = pd.DataFrame(d)"
   ]
  },
  {
   "cell_type": "code",
   "execution_count": 29,
   "id": "7af851ee-68cc-4cce-9b5b-49f91b6c972e",
   "metadata": {},
   "outputs": [],
   "source": [
    "#export_df.to_csv(\"submission.csv\", index = False)"
   ]
  }
 ],
 "metadata": {
  "kernelspec": {
   "display_name": "Python 3 (ipykernel)",
   "language": "python",
   "name": "python3"
  },
  "language_info": {
   "codemirror_mode": {
    "name": "ipython",
    "version": 3
   },
   "file_extension": ".py",
   "mimetype": "text/x-python",
   "name": "python",
   "nbconvert_exporter": "python",
   "pygments_lexer": "ipython3",
   "version": "3.7.13"
  }
 },
 "nbformat": 4,
 "nbformat_minor": 5
}
