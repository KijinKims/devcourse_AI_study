{
 "cells": [
  {
   "cell_type": "markdown",
   "id": "99a5ff9e-68a6-41f5-8b58-134fd60e6f7e",
   "metadata": {},
   "source": [
    "# 4-4. 분류용 데이터 세트를 준비합니다"
   ]
  },
  {
   "cell_type": "code",
   "execution_count": null,
   "id": "e00ac015-c011-4509-a2dd-4d2f17e00f80",
   "metadata": {},
   "outputs": [],
   "source": [
    "from sklearn.datasets import load_breast_cancer\n",
    "import matplotlib.pyplot as plt\n",
    "import seaborn as sns\n",
    "import numpy as np\n",
    "cancer = load_breast_cancer()"
   ]
  },
  {
   "cell_type": "code",
   "execution_count": null,
   "id": "51c16be8-fefa-46a5-8478-f3f6289f7be4",
   "metadata": {},
   "outputs": [],
   "source": [
    "print(cancer.data.shape, cancer.target.shape)\n",
    "cancer.data[:3]"
   ]
  },
  {
   "cell_type": "code",
   "execution_count": null,
   "id": "c892d493-4a4f-45bb-9fa4-ca8165ae2dc4",
   "metadata": {},
   "outputs": [],
   "source": [
    "sns.boxplot(data=cancer.data)\n",
    "plt.xlabel('feature')\n",
    "plt.ylabel('value')\n",
    "plt.show()"
   ]
  },
  {
   "cell_type": "code",
   "execution_count": null,
   "id": "19bc9d51-6dcf-4186-9ea5-8da78f27b123",
   "metadata": {},
   "outputs": [],
   "source": [
    "cancer.feature_names[[3,13,23]]"
   ]
  },
  {
   "cell_type": "code",
   "execution_count": null,
   "id": "891f63a9-327d-472c-af1d-2d2b40b50851",
   "metadata": {},
   "outputs": [],
   "source": [
    "np.unique(cancer.target, return_counts=True)"
   ]
  },
  {
   "cell_type": "code",
   "execution_count": null,
   "id": "b26a824f-1b03-4475-b28b-ed8162e86524",
   "metadata": {},
   "outputs": [],
   "source": [
    "212/357"
   ]
  },
  {
   "cell_type": "code",
   "execution_count": null,
   "id": "2cba32ee-1ce2-4859-99d2-7a3cee0d0640",
   "metadata": {},
   "outputs": [],
   "source": [
    "x = cancer.data\n",
    "y = cancer.target"
   ]
  },
  {
   "cell_type": "markdown",
   "id": "b1a64a72-d90a-4cc9-8a99-76eb2bb298a0",
   "metadata": {},
   "source": [
    "# 4-5. 로지스틱 회귀를 위한 뉴런을 만듭니다"
   ]
  },
  {
   "cell_type": "markdown",
   "id": "c444ab3c-bc52-414d-b6ad-2bcb28ceac8d",
   "metadata": {},
   "source": [
    "![training_test_set](training_test_set.png \"training_test_set\")"
   ]
  },
  {
   "cell_type": "markdown",
   "id": "26c4ba41-e89b-464d-9ad9-0868afb9df36",
   "metadata": {},
   "source": [
    "#### 1. 테스트 세트보다 훈련 세트가 더 커야 합니다.\n",
    "#### 2. 양성, 음성 클래스의 비율이 양 세트에서 균일해야 합니다.\n",
    "> 학습이 잘못 되거나, 성능 측정이 잘못될 위험성 있음"
   ]
  },
  {
   "cell_type": "code",
   "execution_count": null,
   "id": "cedcaecb-5824-4c6a-bec5-d39d1dcb5475",
   "metadata": {},
   "outputs": [],
   "source": [
    "from sklearn.model_selection import train_test_split"
   ]
  },
  {
   "cell_type": "code",
   "execution_count": null,
   "id": "800aa483-7209-4a54-ae90-a1d42b9db744",
   "metadata": {},
   "outputs": [],
   "source": [
    "x_train, x_test, y_train, y_test = train_test_split(x, y, stratify=y, test_size=0.2, random_state=42)"
   ]
  },
  {
   "cell_type": "markdown",
   "id": "61e53120-e370-4734-8814-9b6a48a01c88",
   "metadata": {},
   "source": [
    "- stratify : 해당 데이터의 subset 비율을 유지(여기서는 음성, 양성 클래스 비율)\n",
    "- test_size : 테스트 세트의 크기"
   ]
  },
  {
   "cell_type": "code",
   "execution_count": null,
   "id": "f51a0908-d87f-40f2-b5d3-87eef2322a7c",
   "metadata": {},
   "outputs": [],
   "source": [
    "print(x_train.shape, x_test.shape)"
   ]
  },
  {
   "cell_type": "code",
   "execution_count": null,
   "id": "7aa3e6d0-8729-448e-b4eb-b3ed371c5f1a",
   "metadata": {},
   "outputs": [],
   "source": [
    "np.unique(y_train, return_counts=True)"
   ]
  },
  {
   "cell_type": "code",
   "execution_count": null,
   "id": "2387439c-4e0b-46f4-9263-79430ef6b5cc",
   "metadata": {},
   "outputs": [],
   "source": [
    "170/285"
   ]
  },
  {
   "cell_type": "markdown",
   "id": "a11117e4-d8c2-4fb1-aaf6-7083760295b7",
   "metadata": {},
   "source": [
    "## 로지스틱 회귀 구현하기"
   ]
  },
  {
   "cell_type": "code",
   "execution_count": 42,
   "id": "a596d6c0-064d-420d-9e27-e4afd6e1e286",
   "metadata": {},
   "outputs": [],
   "source": [
    "class LogisticNeuron:\n",
    "    def __init__(self):\n",
    "        self.w = None\n",
    "        self.b = None\n",
    "        \n",
    "    def forpass(self, x):\n",
    "        z = np.sum(x * self.w) + self.b\n",
    "        return z\n",
    "    \n",
    "    def backprop(self, x, err):\n",
    "        w_grad = x * err\n",
    "        b_grad = 1 * err\n",
    "        return w_grad, b_grad\n",
    "    \n",
    "    def fit(self, x, y, epochs=100):\n",
    "        self.w = np.ones(x.shape[1]) # x.shape[1] : feature 개수\n",
    "        self.b = 0\n",
    "        for i in range(epochs):\n",
    "            for x_i, y_i in zip(x, y):\n",
    "                z = self.forpass(x_i)\n",
    "                a = self.activation(z)\n",
    "                err = -(y_i - a)\n",
    "                w_grad, b_grad = self.backprop(x_i, err)\n",
    "                self.w -= w_grad\n",
    "                self.b -= b_grad\n",
    "    \n",
    "    def activation(self, z): # z is an numpy array\n",
    "        a = 1 / (1 + np.exp(-z))\n",
    "        return a\n",
    "    \n",
    "    def predict(self, x):\n",
    "        z = [self.forpass(x_i) for x_i in x]\n",
    "        a = self.activation(np.array(z))\n",
    "        return a > 0.5"
   ]
  },
  {
   "cell_type": "markdown",
   "id": "516c35be-6116-4844-924c-89314b15cf49",
   "metadata": {},
   "source": [
    "- \\_\\_init\\_\\_: 가중치, 절편 미리 초기화 하지 않음\n",
    "- forpass: $x \\cdot w + b$ 구현\n",
    "- activation: numpy array를 argument로 받으면 자동으로 function을 모든 element에 적용"
   ]
  },
  {
   "cell_type": "code",
   "execution_count": 44,
   "id": "754b924f-17df-47cb-9890-05cab24d8a44",
   "metadata": {},
   "outputs": [
    {
     "name": "stderr",
     "output_type": "stream",
     "text": [
      "C:\\Users\\skkuj\\Anaconda3\\envs\\ml\\lib\\site-packages\\ipykernel_launcher.py:28: RuntimeWarning: overflow encountered in exp\n"
     ]
    }
   ],
   "source": [
    "neuron = LogisticNeuron()\n",
    "neuron.fit(x_train, y_train)"
   ]
  },
  {
   "cell_type": "code",
   "execution_count": 45,
   "id": "082d9e7a-3c43-421c-bec1-4503373b673b",
   "metadata": {},
   "outputs": [
    {
     "name": "stderr",
     "output_type": "stream",
     "text": [
      "C:\\Users\\skkuj\\Anaconda3\\envs\\ml\\lib\\site-packages\\ipykernel_launcher.py:28: RuntimeWarning: overflow encountered in exp\n"
     ]
    },
    {
     "data": {
      "text/plain": [
       "0.8245614035087719"
      ]
     },
     "execution_count": 45,
     "metadata": {},
     "output_type": "execute_result"
    }
   ],
   "source": [
    "np.mean(neuron.predict(x_test) == y_test)"
   ]
  }
 ],
 "metadata": {
  "kernelspec": {
   "display_name": "Python 3 (ipykernel)",
   "language": "python",
   "name": "python3"
  },
  "language_info": {
   "codemirror_mode": {
    "name": "ipython",
    "version": 3
   },
   "file_extension": ".py",
   "mimetype": "text/x-python",
   "name": "python",
   "nbconvert_exporter": "python",
   "pygments_lexer": "ipython3",
   "version": "3.7.13"
  }
 },
 "nbformat": 4,
 "nbformat_minor": 5
}
